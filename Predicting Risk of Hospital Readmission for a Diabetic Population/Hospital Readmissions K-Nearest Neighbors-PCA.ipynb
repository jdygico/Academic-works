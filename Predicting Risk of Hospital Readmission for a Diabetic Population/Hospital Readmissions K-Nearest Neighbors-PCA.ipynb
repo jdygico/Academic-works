{
 "cells": [
  {
   "cell_type": "markdown",
   "id": "56978b9c",
   "metadata": {},
   "source": [
    "# K-Nearest Neighbors Model"
   ]
  },
  {
   "cell_type": "code",
   "execution_count": 1,
   "id": "6ac04a91",
   "metadata": {},
   "outputs": [],
   "source": [
    "import pandas as pd\n",
    "import shap\n",
    "from matplotlib import pyplot as plt\n",
    "from sklearn.metrics import (confusion_matrix, ConfusionMatrixDisplay,\n",
    "                             accuracy_score, precision_score, recall_score,\n",
    "                             f1_score, balanced_accuracy_score)\n",
    "from sklearn.neighbors import KNeighborsClassifier"
   ]
  },
  {
   "cell_type": "markdown",
   "id": "0a2287ea",
   "metadata": {},
   "source": [
    "## Load Data"
   ]
  },
  {
   "cell_type": "code",
   "execution_count": 2,
   "id": "aeef049c",
   "metadata": {},
   "outputs": [],
   "source": [
    "data_dir = '.' # replace with your own file directory, if needed\n",
    "X_train = pd.read_pickle('{}/X_train_PCA.pkl'.format(data_dir))\n",
    "X_test = pd.read_pickle('{}/X_test_PCA.pkl'.format(data_dir))\n",
    "y_train = pd.read_pickle('{}/y_train_PCA.pkl'.format(data_dir))\n",
    "y_test = pd.read_pickle('{}/y_test_PCA.pkl'.format(data_dir))"
   ]
  },
  {
   "cell_type": "code",
   "execution_count": 3,
   "id": "572e6818",
   "metadata": {},
   "outputs": [
    {
     "data": {
      "text/html": [
       "<div>\n",
       "<style scoped>\n",
       "    .dataframe tbody tr th:only-of-type {\n",
       "        vertical-align: middle;\n",
       "    }\n",
       "\n",
       "    .dataframe tbody tr th {\n",
       "        vertical-align: top;\n",
       "    }\n",
       "\n",
       "    .dataframe thead th {\n",
       "        text-align: right;\n",
       "    }\n",
       "</style>\n",
       "<table border=\"1\" class=\"dataframe\">\n",
       "  <thead>\n",
       "    <tr style=\"text-align: right;\">\n",
       "      <th></th>\n",
       "      <th>0</th>\n",
       "      <th>1</th>\n",
       "      <th>2</th>\n",
       "      <th>3</th>\n",
       "      <th>4</th>\n",
       "      <th>5</th>\n",
       "      <th>6</th>\n",
       "      <th>7</th>\n",
       "      <th>8</th>\n",
       "      <th>9</th>\n",
       "      <th>...</th>\n",
       "      <th>50</th>\n",
       "      <th>51</th>\n",
       "      <th>52</th>\n",
       "      <th>53</th>\n",
       "      <th>54</th>\n",
       "      <th>55</th>\n",
       "      <th>56</th>\n",
       "      <th>57</th>\n",
       "      <th>58</th>\n",
       "      <th>59</th>\n",
       "    </tr>\n",
       "  </thead>\n",
       "  <tbody>\n",
       "    <tr>\n",
       "      <th>0</th>\n",
       "      <td>-0.189467</td>\n",
       "      <td>0.702905</td>\n",
       "      <td>0.416309</td>\n",
       "      <td>0.589811</td>\n",
       "      <td>-0.393679</td>\n",
       "      <td>0.015430</td>\n",
       "      <td>0.532275</td>\n",
       "      <td>0.255705</td>\n",
       "      <td>-0.146476</td>\n",
       "      <td>-0.655666</td>\n",
       "      <td>...</td>\n",
       "      <td>0.129048</td>\n",
       "      <td>0.092191</td>\n",
       "      <td>-0.066753</td>\n",
       "      <td>-0.079426</td>\n",
       "      <td>-0.115299</td>\n",
       "      <td>-0.116320</td>\n",
       "      <td>0.096699</td>\n",
       "      <td>0.106048</td>\n",
       "      <td>0.075727</td>\n",
       "      <td>-0.023517</td>\n",
       "    </tr>\n",
       "    <tr>\n",
       "      <th>1</th>\n",
       "      <td>1.228294</td>\n",
       "      <td>0.731771</td>\n",
       "      <td>0.705459</td>\n",
       "      <td>-0.611126</td>\n",
       "      <td>0.564607</td>\n",
       "      <td>0.394655</td>\n",
       "      <td>-0.060790</td>\n",
       "      <td>-0.238009</td>\n",
       "      <td>-0.788089</td>\n",
       "      <td>0.743820</td>\n",
       "      <td>...</td>\n",
       "      <td>-0.095633</td>\n",
       "      <td>0.038151</td>\n",
       "      <td>0.158494</td>\n",
       "      <td>-0.300208</td>\n",
       "      <td>-0.287746</td>\n",
       "      <td>-0.173227</td>\n",
       "      <td>-0.265243</td>\n",
       "      <td>-0.174308</td>\n",
       "      <td>0.112266</td>\n",
       "      <td>0.209470</td>\n",
       "    </tr>\n",
       "    <tr>\n",
       "      <th>2</th>\n",
       "      <td>-0.652355</td>\n",
       "      <td>0.612689</td>\n",
       "      <td>-0.136218</td>\n",
       "      <td>0.186432</td>\n",
       "      <td>-1.046867</td>\n",
       "      <td>0.312255</td>\n",
       "      <td>0.039517</td>\n",
       "      <td>0.176946</td>\n",
       "      <td>-0.482768</td>\n",
       "      <td>0.427127</td>\n",
       "      <td>...</td>\n",
       "      <td>-0.127669</td>\n",
       "      <td>0.081399</td>\n",
       "      <td>-0.151546</td>\n",
       "      <td>-0.101650</td>\n",
       "      <td>-0.259741</td>\n",
       "      <td>-0.275592</td>\n",
       "      <td>0.253671</td>\n",
       "      <td>0.060395</td>\n",
       "      <td>0.077266</td>\n",
       "      <td>-0.296733</td>\n",
       "    </tr>\n",
       "    <tr>\n",
       "      <th>3</th>\n",
       "      <td>0.635484</td>\n",
       "      <td>-0.580041</td>\n",
       "      <td>0.378380</td>\n",
       "      <td>0.034925</td>\n",
       "      <td>0.438370</td>\n",
       "      <td>-1.038074</td>\n",
       "      <td>0.215550</td>\n",
       "      <td>-0.066787</td>\n",
       "      <td>-0.238940</td>\n",
       "      <td>-0.569012</td>\n",
       "      <td>...</td>\n",
       "      <td>0.249037</td>\n",
       "      <td>-0.003578</td>\n",
       "      <td>-0.147428</td>\n",
       "      <td>-0.080290</td>\n",
       "      <td>-0.036041</td>\n",
       "      <td>0.027400</td>\n",
       "      <td>0.220647</td>\n",
       "      <td>-0.177753</td>\n",
       "      <td>-0.008438</td>\n",
       "      <td>-0.031055</td>\n",
       "    </tr>\n",
       "    <tr>\n",
       "      <th>4</th>\n",
       "      <td>-0.726564</td>\n",
       "      <td>-0.403447</td>\n",
       "      <td>0.623337</td>\n",
       "      <td>-0.095526</td>\n",
       "      <td>0.446485</td>\n",
       "      <td>-0.336975</td>\n",
       "      <td>-0.763343</td>\n",
       "      <td>0.176541</td>\n",
       "      <td>-0.646920</td>\n",
       "      <td>0.702240</td>\n",
       "      <td>...</td>\n",
       "      <td>-0.088289</td>\n",
       "      <td>-0.467482</td>\n",
       "      <td>0.063972</td>\n",
       "      <td>0.021550</td>\n",
       "      <td>0.044290</td>\n",
       "      <td>0.091468</td>\n",
       "      <td>-0.127143</td>\n",
       "      <td>-0.091254</td>\n",
       "      <td>-0.088724</td>\n",
       "      <td>0.003600</td>\n",
       "    </tr>\n",
       "  </tbody>\n",
       "</table>\n",
       "<p>5 rows × 60 columns</p>\n",
       "</div>"
      ],
      "text/plain": [
       "         0         1         2         3         4         5         6   \\\n",
       "0 -0.189467  0.702905  0.416309  0.589811 -0.393679  0.015430  0.532275   \n",
       "1  1.228294  0.731771  0.705459 -0.611126  0.564607  0.394655 -0.060790   \n",
       "2 -0.652355  0.612689 -0.136218  0.186432 -1.046867  0.312255  0.039517   \n",
       "3  0.635484 -0.580041  0.378380  0.034925  0.438370 -1.038074  0.215550   \n",
       "4 -0.726564 -0.403447  0.623337 -0.095526  0.446485 -0.336975 -0.763343   \n",
       "\n",
       "         7         8         9   ...        50        51        52        53  \\\n",
       "0  0.255705 -0.146476 -0.655666  ...  0.129048  0.092191 -0.066753 -0.079426   \n",
       "1 -0.238009 -0.788089  0.743820  ... -0.095633  0.038151  0.158494 -0.300208   \n",
       "2  0.176946 -0.482768  0.427127  ... -0.127669  0.081399 -0.151546 -0.101650   \n",
       "3 -0.066787 -0.238940 -0.569012  ...  0.249037 -0.003578 -0.147428 -0.080290   \n",
       "4  0.176541 -0.646920  0.702240  ... -0.088289 -0.467482  0.063972  0.021550   \n",
       "\n",
       "         54        55        56        57        58        59  \n",
       "0 -0.115299 -0.116320  0.096699  0.106048  0.075727 -0.023517  \n",
       "1 -0.287746 -0.173227 -0.265243 -0.174308  0.112266  0.209470  \n",
       "2 -0.259741 -0.275592  0.253671  0.060395  0.077266 -0.296733  \n",
       "3 -0.036041  0.027400  0.220647 -0.177753 -0.008438 -0.031055  \n",
       "4  0.044290  0.091468 -0.127143 -0.091254 -0.088724  0.003600  \n",
       "\n",
       "[5 rows x 60 columns]"
      ]
     },
     "execution_count": 3,
     "metadata": {},
     "output_type": "execute_result"
    }
   ],
   "source": [
    "X_train.head()"
   ]
  },
  {
   "cell_type": "markdown",
   "id": "13145154",
   "metadata": {},
   "source": [
    "## Define Functions"
   ]
  },
  {
   "cell_type": "code",
   "execution_count": 4,
   "id": "82c43f1d",
   "metadata": {},
   "outputs": [],
   "source": [
    "def plot_confusion_matrix(cm):\n",
    "    disp = ConfusionMatrixDisplay(confusion_matrix=cm)\n",
    "    disp.plot(cmap='BuPu')\n",
    "    plt.show()"
   ]
  },
  {
   "cell_type": "code",
   "execution_count": 5,
   "id": "c0d8d50e",
   "metadata": {},
   "outputs": [],
   "source": [
    "def get_metrics(actual, predicted):\n",
    "    accuracy = accuracy_score(actual, predicted)\n",
    "    precision = precision_score(actual, predicted)\n",
    "    recall = recall_score(actual, predicted)\n",
    "    f1 = f1_score(actual, predicted)\n",
    "    w_accuracy = balanced_accuracy_score(actual, predicted)\n",
    "    w_precision = precision_score(actual, predicted, average='weighted')\n",
    "    w_recall = recall_score(actual, predicted, average='weighted')\n",
    "    w_f1 = f1_score(actual, predicted, average='weighted')\n",
    "    \n",
    "    return pd.Series({\n",
    "        'Accuracy': accuracy,\n",
    "        'Precision': precision,\n",
    "        'Recall': recall,\n",
    "        'F1 Score': f1,\n",
    "        'Weighted Accuracy': w_accuracy,\n",
    "        'Weighted Precision': w_precision,\n",
    "        'Weighted Recall': w_recall,\n",
    "        'Weighted F1 Score': w_f1\n",
    "    })"
   ]
  },
  {
   "cell_type": "markdown",
   "id": "1002f7c4",
   "metadata": {},
   "source": [
    "## Test kNN Model"
   ]
  },
  {
   "cell_type": "code",
   "execution_count": 6,
   "id": "0b84e1a9",
   "metadata": {},
   "outputs": [],
   "source": [
    "model = KNeighborsClassifier(n_neighbors=2)\n",
    "model.fit(X_train, y_train)\n",
    "\n",
    "# predict\n",
    "predicted = model.predict(X_test)"
   ]
  },
  {
   "cell_type": "code",
   "execution_count": 7,
   "id": "4845e59c",
   "metadata": {},
   "outputs": [
    {
     "data": {
      "text/plain": [
       "0    38189\n",
       "1    38189\n",
       "Name: readmitted, dtype: int64"
      ]
     },
     "execution_count": 7,
     "metadata": {},
     "output_type": "execute_result"
    }
   ],
   "source": [
    "y_train.value_counts()"
   ]
  },
  {
   "cell_type": "code",
   "execution_count": 8,
   "id": "e3f2cd3b",
   "metadata": {},
   "outputs": [
    {
     "data": {
      "text/plain": [
       "0    25479\n",
       "1     2511\n",
       "Name: readmitted, dtype: int64"
      ]
     },
     "execution_count": 8,
     "metadata": {},
     "output_type": "execute_result"
    }
   ],
   "source": [
    "y_test.value_counts()"
   ]
  },
  {
   "cell_type": "code",
   "execution_count": 9,
   "id": "efbaa4db",
   "metadata": {},
   "outputs": [
    {
     "data": {
      "image/png": "[encoded data removed]",
      "text/plain": [
       "<Figure size 640x480 with 2 Axes>"
      ]
     },
     "metadata": {},
     "output_type": "display_data"
    }
   ],
   "source": [
    "cm_lr = confusion_matrix(y_test, predicted)\n",
    "plot_confusion_matrix(cm_lr)"
   ]
  },
  {
   "cell_type": "code",
   "execution_count": 10,
   "id": "a7f8551f",
   "metadata": {},
   "outputs": [
    {
     "name": "stdout",
     "output_type": "stream",
     "text": [
      "[[21664  3815]\n",
      " [ 2027   484]]\n"
     ]
    }
   ],
   "source": [
    "print(cm_lr)"
   ]
  },
  {
   "cell_type": "code",
   "execution_count": 11,
   "id": "5ddde6b4",
   "metadata": {},
   "outputs": [
    {
     "data": {
      "text/html": [
       "<div>\n",
       "<style scoped>\n",
       "    .dataframe tbody tr th:only-of-type {\n",
       "        vertical-align: middle;\n",
       "    }\n",
       "\n",
       "    .dataframe tbody tr th {\n",
       "        vertical-align: top;\n",
       "    }\n",
       "\n",
       "    .dataframe thead th {\n",
       "        text-align: right;\n",
       "    }\n",
       "</style>\n",
       "<table border=\"1\" class=\"dataframe\">\n",
       "  <thead>\n",
       "    <tr style=\"text-align: right;\">\n",
       "      <th></th>\n",
       "      <th>Accuracy</th>\n",
       "      <th>Precision</th>\n",
       "      <th>Recall</th>\n",
       "      <th>F1 Score</th>\n",
       "      <th>Weighted Accuracy</th>\n",
       "      <th>Weighted Precision</th>\n",
       "      <th>Weighted Recall</th>\n",
       "      <th>Weighted F1 Score</th>\n",
       "    </tr>\n",
       "  </thead>\n",
       "  <tbody>\n",
       "    <tr>\n",
       "      <th>kNN</th>\n",
       "      <td>0.791283</td>\n",
       "      <td>0.112584</td>\n",
       "      <td>0.192752</td>\n",
       "      <td>0.142144</td>\n",
       "      <td>0.52151</td>\n",
       "      <td>0.842505</td>\n",
       "      <td>0.791283</td>\n",
       "      <td>0.814888</td>\n",
       "    </tr>\n",
       "  </tbody>\n",
       "</table>\n",
       "</div>"
      ],
      "text/plain": [
       "     Accuracy  Precision    Recall  F1 Score  Weighted Accuracy  \\\n",
       "kNN  0.791283   0.112584  0.192752  0.142144            0.52151   \n",
       "\n",
       "     Weighted Precision  Weighted Recall  Weighted F1 Score  \n",
       "kNN            0.842505         0.791283           0.814888  "
      ]
     },
     "execution_count": 11,
     "metadata": {},
     "output_type": "execute_result"
    }
   ],
   "source": [
    "df_metrics = pd.DataFrame(columns=['Accuracy', 'Precision', 'Recall', 'F1 Score',\n",
    "                                   'Weighted Accuracy', 'Weighted Precision', 'Weighted Recall', 'Weighted F1 Score'])\n",
    "df_metrics.loc['kNN'] = get_metrics(y_test, predicted)\n",
    "df_metrics"
   ]
  },
  {
   "cell_type": "code",
   "execution_count": null,
   "id": "5fc75fef-2376-4160-9733-1dae70949d1b",
   "metadata": {},
   "outputs": [],
   "source": []
  },
  {
   "cell_type": "code",
   "execution_count": null,
   "id": "ac4216c6-2f9b-4889-9646-ac6950fec20d",
   "metadata": {},
   "outputs": [],
   "source": []
  }
 ],
 "metadata": {
  "kernelspec": {
   "display_name": "Python 3 (ipykernel)",
   "language": "python",
   "name": "python3"
  },
  "language_info": {
   "codemirror_mode": {
    "name": "ipython",
    "version": 3
   },
   "file_extension": ".py",
   "mimetype": "text/x-python",
   "name": "python",
   "nbconvert_exporter": "python",
   "pygments_lexer": "ipython3",
   "version": "3.9.13"
  }
 },
 "nbformat": 4,
 "nbformat_minor": 5
}

{
 "cells": [
  {
   "cell_type": "markdown",
   "id": "55c0b676",
   "metadata": {
    "id": "55c0b676"
   },
   "source": [
    "# K-Nearest Neighbors Model"
   ]
  },
  {
   "cell_type": "code",
   "execution_count": 1,
   "id": "b7eb99c2",
   "metadata": {
    "id": "b7eb99c2"
   },
   "outputs": [],
   "source": [
    "import pandas as pd\n",
    "import shap\n",
    "from matplotlib import pyplot as plt\n",
    "from sklearn.metrics import (confusion_matrix, ConfusionMatrixDisplay,\n",
    "                             accuracy_score, precision_score, recall_score,\n",
    "                             f1_score, balanced_accuracy_score)\n",
    "from sklearn.neighbors import KNeighborsClassifier"
   ]
  },
  {
   "cell_type": "markdown",
   "id": "332e5744",
   "metadata": {
    "id": "332e5744"
   },
   "source": [
    "## Load Data"
   ]
  },
  {
   "cell_type": "code",
   "execution_count": 2,
   "id": "314383cb",
   "metadata": {
    "id": "314383cb"
   },
   "outputs": [],
   "source": [
    "data_dir = '.' # replace with your own file directory, if needed\n",
    "X_train = pd.read_pickle('{}/X_train.pkl'.format(data_dir))\n",
    "X_test = pd.read_pickle('{}/X_test.pkl'.format(data_dir))\n",
    "y_train = pd.read_pickle('{}/y_train.pkl'.format(data_dir))\n",
    "y_test = pd.read_pickle('{}/y_test.pkl'.format(data_dir))"
   ]
  },
  {
   "cell_type": "code",
   "execution_count": 3,
   "id": "8bdaa382",
   "metadata": {
    "id": "8bdaa382",
    "outputId": "3c07a35c-1587-4652-894a-c9be296b459b"
   },
   "outputs": [
    {
     "data": {
      "text/html": [
       "<div>\n",
       "<style scoped>\n",
       "    .dataframe tbody tr th:only-of-type {\n",
       "        vertical-align: middle;\n",
       "    }\n",
       "\n",
       "    .dataframe tbody tr th {\n",
       "        vertical-align: top;\n",
       "    }\n",
       "\n",
       "    .dataframe thead th {\n",
       "        text-align: right;\n",
       "    }\n",
       "</style>\n",
       "<table border=\"1\" class=\"dataframe\">\n",
       "  <thead>\n",
       "    <tr style=\"text-align: right;\">\n",
       "      <th></th>\n",
       "      <th>age</th>\n",
       "      <th>time_in_hospital</th>\n",
       "      <th>num_lab_procedures</th>\n",
       "      <th>num_procedures</th>\n",
       "      <th>num_medications</th>\n",
       "      <th>number_outpatient</th>\n",
       "      <th>number_emergency</th>\n",
       "      <th>number_inpatient</th>\n",
       "      <th>number_diagnoses</th>\n",
       "      <th>max_glu_serum</th>\n",
       "      <th>...</th>\n",
       "      <th>diag_3_group_17</th>\n",
       "      <th>diag_3_group_18</th>\n",
       "      <th>diag_3_group_2</th>\n",
       "      <th>diag_3_group_3</th>\n",
       "      <th>diag_3_group_4</th>\n",
       "      <th>diag_3_group_5</th>\n",
       "      <th>diag_3_group_6</th>\n",
       "      <th>diag_3_group_7</th>\n",
       "      <th>diag_3_group_8</th>\n",
       "      <th>diag_3_group_9</th>\n",
       "    </tr>\n",
       "  </thead>\n",
       "  <tbody>\n",
       "    <tr>\n",
       "      <th>0</th>\n",
       "      <td>75</td>\n",
       "      <td>4</td>\n",
       "      <td>39</td>\n",
       "      <td>0</td>\n",
       "      <td>12</td>\n",
       "      <td>0</td>\n",
       "      <td>0</td>\n",
       "      <td>0</td>\n",
       "      <td>9</td>\n",
       "      <td>0</td>\n",
       "      <td>...</td>\n",
       "      <td>0</td>\n",
       "      <td>0</td>\n",
       "      <td>0</td>\n",
       "      <td>0</td>\n",
       "      <td>0</td>\n",
       "      <td>1</td>\n",
       "      <td>0</td>\n",
       "      <td>0</td>\n",
       "      <td>0</td>\n",
       "      <td>0</td>\n",
       "    </tr>\n",
       "    <tr>\n",
       "      <th>1</th>\n",
       "      <td>55</td>\n",
       "      <td>9</td>\n",
       "      <td>79</td>\n",
       "      <td>6</td>\n",
       "      <td>30</td>\n",
       "      <td>0</td>\n",
       "      <td>0</td>\n",
       "      <td>0</td>\n",
       "      <td>4</td>\n",
       "      <td>0</td>\n",
       "      <td>...</td>\n",
       "      <td>0</td>\n",
       "      <td>0</td>\n",
       "      <td>0</td>\n",
       "      <td>0</td>\n",
       "      <td>1</td>\n",
       "      <td>0</td>\n",
       "      <td>0</td>\n",
       "      <td>0</td>\n",
       "      <td>0</td>\n",
       "      <td>0</td>\n",
       "    </tr>\n",
       "    <tr>\n",
       "      <th>2</th>\n",
       "      <td>75</td>\n",
       "      <td>6</td>\n",
       "      <td>40</td>\n",
       "      <td>4</td>\n",
       "      <td>16</td>\n",
       "      <td>0</td>\n",
       "      <td>0</td>\n",
       "      <td>0</td>\n",
       "      <td>9</td>\n",
       "      <td>0</td>\n",
       "      <td>...</td>\n",
       "      <td>0</td>\n",
       "      <td>0</td>\n",
       "      <td>0</td>\n",
       "      <td>1</td>\n",
       "      <td>0</td>\n",
       "      <td>0</td>\n",
       "      <td>0</td>\n",
       "      <td>0</td>\n",
       "      <td>0</td>\n",
       "      <td>0</td>\n",
       "    </tr>\n",
       "    <tr>\n",
       "      <th>3</th>\n",
       "      <td>65</td>\n",
       "      <td>8</td>\n",
       "      <td>72</td>\n",
       "      <td>2</td>\n",
       "      <td>22</td>\n",
       "      <td>0</td>\n",
       "      <td>0</td>\n",
       "      <td>0</td>\n",
       "      <td>9</td>\n",
       "      <td>0</td>\n",
       "      <td>...</td>\n",
       "      <td>0</td>\n",
       "      <td>0</td>\n",
       "      <td>1</td>\n",
       "      <td>0</td>\n",
       "      <td>0</td>\n",
       "      <td>0</td>\n",
       "      <td>0</td>\n",
       "      <td>0</td>\n",
       "      <td>0</td>\n",
       "      <td>0</td>\n",
       "    </tr>\n",
       "    <tr>\n",
       "      <th>4</th>\n",
       "      <td>55</td>\n",
       "      <td>3</td>\n",
       "      <td>50</td>\n",
       "      <td>3</td>\n",
       "      <td>23</td>\n",
       "      <td>0</td>\n",
       "      <td>0</td>\n",
       "      <td>0</td>\n",
       "      <td>7</td>\n",
       "      <td>0</td>\n",
       "      <td>...</td>\n",
       "      <td>1</td>\n",
       "      <td>0</td>\n",
       "      <td>0</td>\n",
       "      <td>0</td>\n",
       "      <td>0</td>\n",
       "      <td>0</td>\n",
       "      <td>0</td>\n",
       "      <td>0</td>\n",
       "      <td>0</td>\n",
       "      <td>0</td>\n",
       "    </tr>\n",
       "  </tbody>\n",
       "</table>\n",
       "<p>5 rows × 163 columns</p>\n",
       "</div>"
      ],
      "text/plain": [
       "   age  time_in_hospital  num_lab_procedures  num_procedures  num_medications  \\\n",
       "0   75                 4                  39               0               12   \n",
       "1   55                 9                  79               6               30   \n",
       "2   75                 6                  40               4               16   \n",
       "3   65                 8                  72               2               22   \n",
       "4   55                 3                  50               3               23   \n",
       "\n",
       "   number_outpatient  number_emergency  number_inpatient  number_diagnoses  \\\n",
       "0                  0                 0                 0                 9   \n",
       "1                  0                 0                 0                 4   \n",
       "2                  0                 0                 0                 9   \n",
       "3                  0                 0                 0                 9   \n",
       "4                  0                 0                 0                 7   \n",
       "\n",
       "   max_glu_serum  ...  diag_3_group_17  diag_3_group_18  diag_3_group_2  \\\n",
       "0              0  ...                0                0               0   \n",
       "1              0  ...                0                0               0   \n",
       "2              0  ...                0                0               0   \n",
       "3              0  ...                0                0               1   \n",
       "4              0  ...                1                0               0   \n",
       "\n",
       "   diag_3_group_3  diag_3_group_4  diag_3_group_5  diag_3_group_6  \\\n",
       "0               0               0               1               0   \n",
       "1               0               1               0               0   \n",
       "2               1               0               0               0   \n",
       "3               0               0               0               0   \n",
       "4               0               0               0               0   \n",
       "\n",
       "   diag_3_group_7  diag_3_group_8  diag_3_group_9  \n",
       "0               0               0               0  \n",
       "1               0               0               0  \n",
       "2               0               0               0  \n",
       "3               0               0               0  \n",
       "4               0               0               0  \n",
       "\n",
       "[5 rows x 163 columns]"
      ]
     },
     "execution_count": 3,
     "metadata": {},
     "output_type": "execute_result"
    }
   ],
   "source": [
    "X_train.head()"
   ]
  },
  {
   "cell_type": "markdown",
   "id": "e2cc0528",
   "metadata": {
    "id": "e2cc0528"
   },
   "source": [
    "## Define Functions"
   ]
  },
  {
   "cell_type": "code",
   "execution_count": 4,
   "id": "664978f0",
   "metadata": {
    "id": "664978f0"
   },
   "outputs": [],
   "source": [
    "def plot_confusion_matrix(cm):\n",
    "    disp = ConfusionMatrixDisplay(confusion_matrix=cm)\n",
    "    disp.plot(cmap='BuPu')\n",
    "    plt.show()"
   ]
  },
  {
   "cell_type": "code",
   "execution_count": 5,
   "id": "8edc3a4e",
   "metadata": {
    "id": "8edc3a4e"
   },
   "outputs": [],
   "source": [
    "def get_metrics(actual, predicted):\n",
    "    accuracy = accuracy_score(actual, predicted)\n",
    "    precision = precision_score(actual, predicted)\n",
    "    recall = recall_score(actual, predicted)\n",
    "    f1 = f1_score(actual, predicted)\n",
    "    w_accuracy = balanced_accuracy_score(actual, predicted)\n",
    "    w_precision = precision_score(actual, predicted, average='weighted')\n",
    "    w_recall = recall_score(actual, predicted, average='weighted')\n",
    "    w_f1 = f1_score(actual, predicted, average='weighted')\n",
    "    \n",
    "    return pd.Series({\n",
    "        'Accuracy': accuracy,\n",
    "        'Precision': precision,\n",
    "        'Recall': recall,\n",
    "        'F1 Score': f1,\n",
    "        'Weighted Accuracy': w_accuracy,\n",
    "        'Weighted Precision': w_precision,\n",
    "        'Weighted Recall': w_recall,\n",
    "        'Weighted F1 Score': w_f1\n",
    "    })"
   ]
  },
  {
   "cell_type": "markdown",
   "id": "b2ad6e6c",
   "metadata": {
    "id": "b2ad6e6c"
   },
   "source": [
    "## Test kNN Model"
   ]
  },
  {
   "cell_type": "code",
   "execution_count": 6,
   "id": "821f2fde",
   "metadata": {
    "id": "821f2fde"
   },
   "outputs": [],
   "source": [
    "model = KNeighborsClassifier(n_neighbors=2)\n",
    "model.fit(X_train, y_train)\n",
    "\n",
    "# predict\n",
    "predicted = model.predict(X_test)"
   ]
  },
  {
   "cell_type": "code",
   "execution_count": 7,
   "id": "f7c24c11",
   "metadata": {
    "id": "f7c24c11",
    "outputId": "f1d2dc84-38de-41a5-fe07-27063b5afaa4"
   },
   "outputs": [
    {
     "data": {
      "text/plain": [
       "0    38186\n",
       "1    38186\n",
       "Name: readmitted, dtype: int64"
      ]
     },
     "execution_count": 7,
     "metadata": {},
     "output_type": "execute_result"
    }
   ],
   "source": [
    "y_train.value_counts()"
   ]
  },
  {
   "cell_type": "code",
   "execution_count": 8,
   "id": "5d9875f5",
   "metadata": {
    "id": "5d9875f5",
    "outputId": "66bf907f-ed6f-403a-f324-2972a76400e6"
   },
   "outputs": [
    {
     "data": {
      "text/plain": [
       "0    25479\n",
       "1     2511\n",
       "Name: readmitted, dtype: int64"
      ]
     },
     "execution_count": 8,
     "metadata": {},
     "output_type": "execute_result"
    }
   ],
   "source": [
    "y_test.value_counts()"
   ]
  },
  {
   "cell_type": "code",
   "execution_count": 9,
   "id": "e9afd736",
   "metadata": {
    "id": "e9afd736",
    "outputId": "f5e50c17-cf75-465b-9a90-29b48f00d0b1"
   },
   "outputs": [
    {
     "data": {
      "image/png": "[encoded data removed]",
      "text/plain": [
       "<Figure size 640x480 with 2 Axes>"
      ]
     },
     "metadata": {},
     "output_type": "display_data"
    }
   ],
   "source": [
    "cm_lr = confusion_matrix(y_test, predicted)\n",
    "plot_confusion_matrix(cm_lr)"
   ]
  },
  {
   "cell_type": "code",
   "execution_count": 10,
   "id": "9f2132c7",
   "metadata": {
    "id": "9f2132c7",
    "outputId": "f41267ad-a612-4025-ded0-ba1cea73ded2"
   },
   "outputs": [
    {
     "name": "stdout",
     "output_type": "stream",
     "text": [
      "[[18857  6622]\n",
      " [ 1778   733]]\n"
     ]
    }
   ],
   "source": [
    "print(cm_lr)"
   ]
  },
  {
   "cell_type": "code",
   "execution_count": 11,
   "id": "f530bf29",
   "metadata": {
    "id": "f530bf29",
    "outputId": "6829bbf3-f4c3-45f6-a34d-7fbf2a762471"
   },
   "outputs": [
    {
     "data": {
      "text/html": [
       "<div>\n",
       "<style scoped>\n",
       "    .dataframe tbody tr th:only-of-type {\n",
       "        vertical-align: middle;\n",
       "    }\n",
       "\n",
       "    .dataframe tbody tr th {\n",
       "        vertical-align: top;\n",
       "    }\n",
       "\n",
       "    .dataframe thead th {\n",
       "        text-align: right;\n",
       "    }\n",
       "</style>\n",
       "<table border=\"1\" class=\"dataframe\">\n",
       "  <thead>\n",
       "    <tr style=\"text-align: right;\">\n",
       "      <th></th>\n",
       "      <th>Accuracy</th>\n",
       "      <th>Precision</th>\n",
       "      <th>Recall</th>\n",
       "      <th>F1 Score</th>\n",
       "      <th>Weighted Accuracy</th>\n",
       "      <th>Weighted Precision</th>\n",
       "      <th>Weighted Recall</th>\n",
       "      <th>Weighted F1 Score</th>\n",
       "    </tr>\n",
       "  </thead>\n",
       "  <tbody>\n",
       "    <tr>\n",
       "      <th>kNN</th>\n",
       "      <td>0.699893</td>\n",
       "      <td>0.09966</td>\n",
       "      <td>0.291916</td>\n",
       "      <td>0.148591</td>\n",
       "      <td>0.516008</td>\n",
       "      <td>0.840796</td>\n",
       "      <td>0.699893</td>\n",
       "      <td>0.757804</td>\n",
       "    </tr>\n",
       "  </tbody>\n",
       "</table>\n",
       "</div>"
      ],
      "text/plain": [
       "     Accuracy  Precision    Recall  F1 Score  Weighted Accuracy  \\\n",
       "kNN  0.699893    0.09966  0.291916  0.148591           0.516008   \n",
       "\n",
       "     Weighted Precision  Weighted Recall  Weighted F1 Score  \n",
       "kNN            0.840796         0.699893           0.757804  "
      ]
     },
     "execution_count": 11,
     "metadata": {},
     "output_type": "execute_result"
    }
   ],
   "source": [
    "df_metrics = pd.DataFrame(columns=['Accuracy', 'Precision', 'Recall', 'F1 Score',\n",
    "                                   'Weighted Accuracy', 'Weighted Precision', 'Weighted Recall', 'Weighted F1 Score'])\n",
    "df_metrics.loc['kNN'] = get_metrics(y_test, predicted)\n",
    "df_metrics"
   ]
  },
  {
   "cell_type": "code",
   "execution_count": null,
   "id": "802dc74f-61c8-4e14-8446-f15d2228055a",
   "metadata": {},
   "outputs": [],
   "source": []
  },
  {
   "cell_type": "code",
   "execution_count": null,
   "id": "34a0a649-c825-4be0-b420-cd40e18cfd20",
   "metadata": {},
   "outputs": [],
   "source": []
  }
 ],
 "metadata": {
  "colab": {
   "provenance": []
  },
  "kernelspec": {
   "display_name": "Python 3 (ipykernel)",
   "language": "python",
   "name": "python3"
  },
  "language_info": {
   "codemirror_mode": {
    "name": "ipython",
    "version": 3
   },
   "file_extension": ".py",
   "mimetype": "text/x-python",
   "name": "python",
   "nbconvert_exporter": "python",
   "pygments_lexer": "ipython3",
   "version": "3.9.13"
  }
 },
 "nbformat": 4,
 "nbformat_minor": 5
}

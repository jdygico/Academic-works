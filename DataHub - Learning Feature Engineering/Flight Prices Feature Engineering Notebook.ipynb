{
 "cells": [
  {
   "cell_type": "markdown",
   "id": "fe2d5b38-c4fa-4d89-9db2-b67a309fad6e",
   "metadata": {},
   "source": [
    "## **Feature Engineering**\n",
    "> Feature Engineering is the artistic side of data science wherein there is no one specific operation because the creation of features is driven by business insights and other things found in EDA. This is the most important part of the Machine Learning part of data science as it prepares the dataset to make sure that the model performs the best as it could.\n",
    "\n",
    "The main objectives of feature engineering are to transform the dataset so that it will be compatible with a machine learning model and improve the performance of the machine learning model. When dealing with a raw dataset, you will encounter continuous and categorical values. A machine learning model cannot work with these values unless it is transformed with the techniques we hope to equip you with in this notebook. After going through this notebook, you should be able to handle continuous and categorical values."
   ]
  },
  {
   "cell_type": "code",
   "execution_count": 1,
   "id": "5fbca3c9-7efb-4051-8aa3-d0162a0131e7",
   "metadata": {},
   "outputs": [],
   "source": [
    "# Import libraries & packages\n",
    "import numpy as np\n",
    "import pandas as pd\n",
    "from sklearn.preprocessing import StandardScaler, MinMaxScaler, LabelEncoder, OneHotEncoder"
   ]
  },
  {
   "cell_type": "markdown",
   "id": "48943f44-df42-4632-8387-a1c61c358567",
   "metadata": {},
   "source": [
    "### **The dataset we will be using contains information on the prices of flights between India's top 6 metro cities.**\n",
    "\n",
    "Below is a description of the dataset's features:\n",
    "1. Airline: The name of the airline company is stored in the airline column. It is a categorical feature having 6 different airlines.\n",
    "2. Flight: Flight stores information regarding the plane's flight code. It is a categorical feature.\n",
    "3. Source City: City from which the flight takes off. It is a categorical feature having 6 unique cities.\n",
    "4. Departure Time: This is a derived categorical feature obtained created by grouping time periods into bins. It stores information about the departure time and have 6 unique time labels.\n",
    "5. Stops: A categorical feature with 3 distinct values that stores the number of stops between the source and destination cities.\n",
    "6. Arrival Time: This is a derived categorical feature created by grouping time intervals into bins. It has six distinct time labels and keeps information about the arrival time.\n",
    "7. Destination City: City where the flight will land. It is a categorical feature having 6 unique cities.\n",
    "8. Class: A categorical feature that contains information on seat class; it has two distinct values: Business and Economy.\n",
    "9. Duration: A continuous feature that displays the overall amount of time it takes to travel between cities in hours.\n",
    "10. Days Left: This is a derived characteristic that is calculated by subtracting the trip date by the booking date.\n",
    "11. Price: Target variable stores information of the ticket price."
   ]
  },
  {
   "cell_type": "code",
   "execution_count": 2,
   "id": "abe19a34-4f0d-4f54-8a4d-521a08e170c5",
   "metadata": {},
   "outputs": [
    {
     "data": {
      "text/html": [
       "<div>\n",
       "<style scoped>\n",
       "    .dataframe tbody tr th:only-of-type {\n",
       "        vertical-align: middle;\n",
       "    }\n",
       "\n",
       "    .dataframe tbody tr th {\n",
       "        vertical-align: top;\n",
       "    }\n",
       "\n",
       "    .dataframe thead th {\n",
       "        text-align: right;\n",
       "    }\n",
       "</style>\n",
       "<table border=\"1\" class=\"dataframe\">\n",
       "  <thead>\n",
       "    <tr style=\"text-align: right;\">\n",
       "      <th></th>\n",
       "      <th>Unnamed: 0</th>\n",
       "      <th>airline</th>\n",
       "      <th>flight</th>\n",
       "      <th>source_city</th>\n",
       "      <th>departure_time</th>\n",
       "      <th>stops</th>\n",
       "      <th>arrival_time</th>\n",
       "      <th>destination_city</th>\n",
       "      <th>class</th>\n",
       "      <th>duration</th>\n",
       "      <th>days_left</th>\n",
       "      <th>price</th>\n",
       "    </tr>\n",
       "  </thead>\n",
       "  <tbody>\n",
       "    <tr>\n",
       "      <th>0</th>\n",
       "      <td>0</td>\n",
       "      <td>SpiceJet</td>\n",
       "      <td>SG-8709</td>\n",
       "      <td>Delhi</td>\n",
       "      <td>Evening</td>\n",
       "      <td>zero</td>\n",
       "      <td>Night</td>\n",
       "      <td>Mumbai</td>\n",
       "      <td>Economy</td>\n",
       "      <td>2.17</td>\n",
       "      <td>1</td>\n",
       "      <td>5953</td>\n",
       "    </tr>\n",
       "    <tr>\n",
       "      <th>1</th>\n",
       "      <td>1</td>\n",
       "      <td>SpiceJet</td>\n",
       "      <td>SG-8157</td>\n",
       "      <td>Delhi</td>\n",
       "      <td>Early_Morning</td>\n",
       "      <td>zero</td>\n",
       "      <td>Morning</td>\n",
       "      <td>Mumbai</td>\n",
       "      <td>Economy</td>\n",
       "      <td>2.33</td>\n",
       "      <td>1</td>\n",
       "      <td>5953</td>\n",
       "    </tr>\n",
       "    <tr>\n",
       "      <th>2</th>\n",
       "      <td>2</td>\n",
       "      <td>AirAsia</td>\n",
       "      <td>I5-764</td>\n",
       "      <td>Delhi</td>\n",
       "      <td>Early_Morning</td>\n",
       "      <td>zero</td>\n",
       "      <td>Early_Morning</td>\n",
       "      <td>Mumbai</td>\n",
       "      <td>Economy</td>\n",
       "      <td>2.17</td>\n",
       "      <td>1</td>\n",
       "      <td>5956</td>\n",
       "    </tr>\n",
       "    <tr>\n",
       "      <th>3</th>\n",
       "      <td>3</td>\n",
       "      <td>Vistara</td>\n",
       "      <td>UK-995</td>\n",
       "      <td>Delhi</td>\n",
       "      <td>Morning</td>\n",
       "      <td>zero</td>\n",
       "      <td>Afternoon</td>\n",
       "      <td>Mumbai</td>\n",
       "      <td>Economy</td>\n",
       "      <td>2.25</td>\n",
       "      <td>1</td>\n",
       "      <td>5955</td>\n",
       "    </tr>\n",
       "    <tr>\n",
       "      <th>4</th>\n",
       "      <td>4</td>\n",
       "      <td>Vistara</td>\n",
       "      <td>UK-963</td>\n",
       "      <td>Delhi</td>\n",
       "      <td>Morning</td>\n",
       "      <td>zero</td>\n",
       "      <td>Morning</td>\n",
       "      <td>Mumbai</td>\n",
       "      <td>Economy</td>\n",
       "      <td>2.33</td>\n",
       "      <td>1</td>\n",
       "      <td>5955</td>\n",
       "    </tr>\n",
       "  </tbody>\n",
       "</table>\n",
       "</div>"
      ],
      "text/plain": [
       "   Unnamed: 0   airline   flight source_city departure_time stops  \\\n",
       "0           0  SpiceJet  SG-8709       Delhi        Evening  zero   \n",
       "1           1  SpiceJet  SG-8157       Delhi  Early_Morning  zero   \n",
       "2           2   AirAsia   I5-764       Delhi  Early_Morning  zero   \n",
       "3           3   Vistara   UK-995       Delhi        Morning  zero   \n",
       "4           4   Vistara   UK-963       Delhi        Morning  zero   \n",
       "\n",
       "    arrival_time destination_city    class  duration  days_left  price  \n",
       "0          Night           Mumbai  Economy      2.17          1   5953  \n",
       "1        Morning           Mumbai  Economy      2.33          1   5953  \n",
       "2  Early_Morning           Mumbai  Economy      2.17          1   5956  \n",
       "3      Afternoon           Mumbai  Economy      2.25          1   5955  \n",
       "4        Morning           Mumbai  Economy      2.33          1   5955  "
      ]
     },
     "execution_count": 2,
     "metadata": {},
     "output_type": "execute_result"
    }
   ],
   "source": [
    "# Import dataset\n",
    "df = pd.read_csv(\"flight_prices.csv\")\n",
    "df.head()"
   ]
  },
  {
   "cell_type": "markdown",
   "id": "7f7f1ff2-222c-4bd5-9672-8f60c4072d4b",
   "metadata": {},
   "source": [
    "> Now that we have imported the dataset and have seen its initial features, its time to get down to business. First of all, let us get rid of any columns that do not hold any weight or value for our machine learning model. *Unnamed: 0* is a column that serves as a unique identifiers for rows, thus they do not really indicate anything and have no value. We can start by dropping these columns."
   ]
  },
  {
   "cell_type": "code",
   "execution_count": 3,
   "id": "e9ae93ea-b1ae-4a2d-ab77-12f651eb9237",
   "metadata": {},
   "outputs": [],
   "source": [
    "# Drop Unnamed column because it is just an unique identifier column, thus it holds no value for the machine learning model.\n",
    "df = df.drop(columns=['Unnamed: 0'])"
   ]
  },
  {
   "cell_type": "code",
   "execution_count": 4,
   "id": "1eba1c81-7ed3-4712-a27f-933d0e786fe8",
   "metadata": {},
   "outputs": [
    {
     "name": "stdout",
     "output_type": "stream",
     "text": [
      "<class 'pandas.core.frame.DataFrame'>\n",
      "RangeIndex: 300153 entries, 0 to 300152\n",
      "Data columns (total 11 columns):\n",
      " #   Column            Non-Null Count   Dtype  \n",
      "---  ------            --------------   -----  \n",
      " 0   airline           300153 non-null  object \n",
      " 1   flight            300153 non-null  object \n",
      " 2   source_city       300153 non-null  object \n",
      " 3   departure_time    300153 non-null  object \n",
      " 4   stops             300153 non-null  object \n",
      " 5   arrival_time      300153 non-null  object \n",
      " 6   destination_city  300153 non-null  object \n",
      " 7   class             300153 non-null  object \n",
      " 8   duration          300153 non-null  float64\n",
      " 9   days_left         300153 non-null  int64  \n",
      " 10  price             300153 non-null  int64  \n",
      "dtypes: float64(1), int64(2), object(8)\n",
      "memory usage: 25.2+ MB\n"
     ]
    }
   ],
   "source": [
    "# Shows detailed information on each column\n",
    "df.info()"
   ]
  },
  {
   "cell_type": "markdown",
   "id": "8eeef3a3-6661-44c8-96e5-cb0550257ed5",
   "metadata": {},
   "source": [
    "> As seen above, a lot of the dataset's columns are objects or ints. It's important to always check the data types of our features and make sure that it can be processed by our machine learning model. Ideally, a float is always best as it is within the range of real numbers which has more precision compared to integers. So, we can start by converting all *int64* columns into *float64*."
   ]
  },
  {
   "cell_type": "code",
   "execution_count": 5,
   "id": "209c525a-0bcc-418d-bfe4-3bf84df7999b",
   "metadata": {},
   "outputs": [],
   "source": [
    "# Convert days_left and price columns from int to float\n",
    "df['days_left'] = df['days_left'].astype(float)\n",
    "df['price'] = df['price'].astype(float)"
   ]
  },
  {
   "cell_type": "code",
   "execution_count": 6,
   "id": "76a6d761-2703-4946-973f-b018847a2ba5",
   "metadata": {},
   "outputs": [
    {
     "name": "stdout",
     "output_type": "stream",
     "text": [
      "<class 'pandas.core.frame.DataFrame'>\n",
      "RangeIndex: 300153 entries, 0 to 300152\n",
      "Data columns (total 11 columns):\n",
      " #   Column            Non-Null Count   Dtype  \n",
      "---  ------            --------------   -----  \n",
      " 0   airline           300153 non-null  object \n",
      " 1   flight            300153 non-null  object \n",
      " 2   source_city       300153 non-null  object \n",
      " 3   departure_time    300153 non-null  object \n",
      " 4   stops             300153 non-null  object \n",
      " 5   arrival_time      300153 non-null  object \n",
      " 6   destination_city  300153 non-null  object \n",
      " 7   class             300153 non-null  object \n",
      " 8   duration          300153 non-null  float64\n",
      " 9   days_left         300153 non-null  float64\n",
      " 10  price             300153 non-null  float64\n",
      "dtypes: float64(3), object(8)\n",
      "memory usage: 25.2+ MB\n"
     ]
    }
   ],
   "source": [
    "df.info()"
   ]
  },
  {
   "cell_type": "markdown",
   "id": "35243314-703b-4375-bbc2-e4d2497fc136",
   "metadata": {},
   "source": [
    "## **Handling Categorical Features**\n",
    "An example of a categorical feature in a dataset would be gender since it is non-numerical and can be divided into specific groups. They have a specified range of values.\n",
    "\n",
    "In this dataset, there is a total of 8 categorical features.\n",
    "- airline\n",
    "- flight\n",
    "- source_city\n",
    "- departure_time\n",
    "- stops\n",
    "- arrival_time\n",
    "- destination_city\n",
    "- class\n",
    "\n",
    "These non-numerical values need to be converted to integers or floats so that a machine learning model can utilize them. We can do so with LabelEncoder which assigns an integer starting from 0 to each category in a categorical feature, and OneHotEncoder which creates more columns for each category in a categorical feature and assigns a boolean-like value to each column with 0 and 1. Lets take a deeper dive into these two methods of handling categorical features."
   ]
  },
  {
   "cell_type": "code",
   "execution_count": 7,
   "id": "7011ce69-f0c1-4200-aa05-de13e21dbce8",
   "metadata": {},
   "outputs": [
    {
     "data": {
      "text/plain": [
       "array(['AirAsia', 'Air_India', 'GO_FIRST', 'Indigo', 'SpiceJet',\n",
       "       'Vistara'], dtype=object)"
      ]
     },
     "execution_count": 7,
     "metadata": {},
     "output_type": "execute_result"
    }
   ],
   "source": [
    "# Get all unique values in airline feature\n",
    "airlines = np.sort(df['airline'].unique())\n",
    "airlines"
   ]
  },
  {
   "cell_type": "markdown",
   "id": "eb2885c3-6411-4088-9761-cb98f0ef913f",
   "metadata": {},
   "source": [
    "### **Transforming airline feature**\n",
    "Let's get started with the first categorical feature which is the airline of the flight. There are 6 unique airlines in this dataset as seen above. We will use LabelEncoder to assign a numerical value for each airline. We do this because machine learing algorithms can only deal with numbers. This means that transforming categorical values into numerics is necessary so that it will be machine-readable."
   ]
  },
  {
   "cell_type": "code",
   "execution_count": 8,
   "id": "948bdabf-ad30-4b93-8e80-8ae8d80f1014",
   "metadata": {},
   "outputs": [
    {
     "data": {
      "text/plain": [
       "array([4, 4, 0, ..., 5, 5, 5])"
      ]
     },
     "execution_count": 8,
     "metadata": {},
     "output_type": "execute_result"
    }
   ],
   "source": [
    "# Get LabelEncoder object from sklearn.preprocessing\n",
    "label_encoder = LabelEncoder()\n",
    "\n",
    "# Create array containing the labelled values of the airline feature\n",
    "labelled = label_encoder.fit_transform(df['airline'])\n",
    "labelled"
   ]
  },
  {
   "cell_type": "markdown",
   "id": "c18a19fa-0531-4643-9cc8-bdb300724d04",
   "metadata": {},
   "source": [
    "### **But wait!**\n",
    "Using LabelEncoder is not enough for this particular feature because it may mislead our machine learning model. How so? Well, what we have currently done is assigned an integer from 0 to 5 for each of the airlines. However, the machine learning model may think that one airline is higher than the other simply because its numerical value is higher. It may end up making unwanted relationships such as that when the numerical value of the airline feature goes up, so does the price. This is certainly not logical and necessarily the case. In order to avoid this, we need to use **OneHotEncoder**."
   ]
  },
  {
   "cell_type": "code",
   "execution_count": 9,
   "id": "8d6de7f9-8a0c-4cba-a29e-febe96ac27c5",
   "metadata": {},
   "outputs": [
    {
     "data": {
      "text/plain": [
       "array([[4],\n",
       "       [4],\n",
       "       [0],\n",
       "       ...,\n",
       "       [5],\n",
       "       [5],\n",
       "       [5]])"
      ]
     },
     "execution_count": 9,
     "metadata": {},
     "output_type": "execute_result"
    }
   ],
   "source": [
    "# Reshape the array first so that it will be compatible with OneHotEncoder\n",
    "labelled = labelled.reshape(-1, 1)\n",
    "labelled"
   ]
  },
  {
   "cell_type": "code",
   "execution_count": 10,
   "id": "f7288bec-35ec-4116-a3a9-c49bea58fc08",
   "metadata": {},
   "outputs": [
    {
     "data": {
      "text/plain": [
       "array([[0., 0., 0., 0., 1., 0.],\n",
       "       [0., 0., 0., 0., 1., 0.],\n",
       "       [1., 0., 0., 0., 0., 0.],\n",
       "       ...,\n",
       "       [0., 0., 0., 0., 0., 1.],\n",
       "       [0., 0., 0., 0., 0., 1.],\n",
       "       [0., 0., 0., 0., 0., 1.]])"
      ]
     },
     "execution_count": 10,
     "metadata": {},
     "output_type": "execute_result"
    }
   ],
   "source": [
    "onehot_encoder = OneHotEncoder(sparse=False)\n",
    "onehotted = onehot_encoder.fit_transform(labelled)\n",
    "onehotted"
   ]
  },
  {
   "cell_type": "markdown",
   "id": "39a2ac17-c2bb-4e8e-b946-871a2a391457",
   "metadata": {},
   "source": [
    "> As you can see above, OneHotEncoder has made it so that there are 6 new columns/features. Among these 6 new features, only one will have a value of 1, and whichever feature it is will indicate the airline. Now, all of the categorical values will not be ranked anymore since it will all have either a value of 0 or 1. If you encounter categorical values that are ordinal or are ranked, then using LabelEncoder only will suffice."
   ]
  },
  {
   "cell_type": "code",
   "execution_count": 11,
   "id": "dad30289-dd76-4516-bf98-f4cbcee49794",
   "metadata": {},
   "outputs": [
    {
     "data": {
      "text/html": [
       "<div>\n",
       "<style scoped>\n",
       "    .dataframe tbody tr th:only-of-type {\n",
       "        vertical-align: middle;\n",
       "    }\n",
       "\n",
       "    .dataframe tbody tr th {\n",
       "        vertical-align: top;\n",
       "    }\n",
       "\n",
       "    .dataframe thead th {\n",
       "        text-align: right;\n",
       "    }\n",
       "</style>\n",
       "<table border=\"1\" class=\"dataframe\">\n",
       "  <thead>\n",
       "    <tr style=\"text-align: right;\">\n",
       "      <th></th>\n",
       "      <th>flight</th>\n",
       "      <th>source_city</th>\n",
       "      <th>departure_time</th>\n",
       "      <th>stops</th>\n",
       "      <th>arrival_time</th>\n",
       "      <th>destination_city</th>\n",
       "      <th>class</th>\n",
       "      <th>duration</th>\n",
       "      <th>days_left</th>\n",
       "      <th>price</th>\n",
       "      <th>AirAsia</th>\n",
       "      <th>Air_India</th>\n",
       "      <th>GO_FIRST</th>\n",
       "      <th>Indigo</th>\n",
       "      <th>SpiceJet</th>\n",
       "      <th>Vistara</th>\n",
       "    </tr>\n",
       "  </thead>\n",
       "  <tbody>\n",
       "    <tr>\n",
       "      <th>0</th>\n",
       "      <td>SG-8709</td>\n",
       "      <td>Delhi</td>\n",
       "      <td>Evening</td>\n",
       "      <td>zero</td>\n",
       "      <td>Night</td>\n",
       "      <td>Mumbai</td>\n",
       "      <td>Economy</td>\n",
       "      <td>2.17</td>\n",
       "      <td>1.0</td>\n",
       "      <td>5953.0</td>\n",
       "      <td>0.0</td>\n",
       "      <td>0.0</td>\n",
       "      <td>0.0</td>\n",
       "      <td>0.0</td>\n",
       "      <td>1.0</td>\n",
       "      <td>0.0</td>\n",
       "    </tr>\n",
       "    <tr>\n",
       "      <th>1</th>\n",
       "      <td>SG-8157</td>\n",
       "      <td>Delhi</td>\n",
       "      <td>Early_Morning</td>\n",
       "      <td>zero</td>\n",
       "      <td>Morning</td>\n",
       "      <td>Mumbai</td>\n",
       "      <td>Economy</td>\n",
       "      <td>2.33</td>\n",
       "      <td>1.0</td>\n",
       "      <td>5953.0</td>\n",
       "      <td>0.0</td>\n",
       "      <td>0.0</td>\n",
       "      <td>0.0</td>\n",
       "      <td>0.0</td>\n",
       "      <td>1.0</td>\n",
       "      <td>0.0</td>\n",
       "    </tr>\n",
       "    <tr>\n",
       "      <th>2</th>\n",
       "      <td>I5-764</td>\n",
       "      <td>Delhi</td>\n",
       "      <td>Early_Morning</td>\n",
       "      <td>zero</td>\n",
       "      <td>Early_Morning</td>\n",
       "      <td>Mumbai</td>\n",
       "      <td>Economy</td>\n",
       "      <td>2.17</td>\n",
       "      <td>1.0</td>\n",
       "      <td>5956.0</td>\n",
       "      <td>1.0</td>\n",
       "      <td>0.0</td>\n",
       "      <td>0.0</td>\n",
       "      <td>0.0</td>\n",
       "      <td>0.0</td>\n",
       "      <td>0.0</td>\n",
       "    </tr>\n",
       "    <tr>\n",
       "      <th>3</th>\n",
       "      <td>UK-995</td>\n",
       "      <td>Delhi</td>\n",
       "      <td>Morning</td>\n",
       "      <td>zero</td>\n",
       "      <td>Afternoon</td>\n",
       "      <td>Mumbai</td>\n",
       "      <td>Economy</td>\n",
       "      <td>2.25</td>\n",
       "      <td>1.0</td>\n",
       "      <td>5955.0</td>\n",
       "      <td>0.0</td>\n",
       "      <td>0.0</td>\n",
       "      <td>0.0</td>\n",
       "      <td>0.0</td>\n",
       "      <td>0.0</td>\n",
       "      <td>1.0</td>\n",
       "    </tr>\n",
       "    <tr>\n",
       "      <th>4</th>\n",
       "      <td>UK-963</td>\n",
       "      <td>Delhi</td>\n",
       "      <td>Morning</td>\n",
       "      <td>zero</td>\n",
       "      <td>Morning</td>\n",
       "      <td>Mumbai</td>\n",
       "      <td>Economy</td>\n",
       "      <td>2.33</td>\n",
       "      <td>1.0</td>\n",
       "      <td>5955.0</td>\n",
       "      <td>0.0</td>\n",
       "      <td>0.0</td>\n",
       "      <td>0.0</td>\n",
       "      <td>0.0</td>\n",
       "      <td>0.0</td>\n",
       "      <td>1.0</td>\n",
       "    </tr>\n",
       "  </tbody>\n",
       "</table>\n",
       "</div>"
      ],
      "text/plain": [
       "    flight source_city departure_time stops   arrival_time destination_city  \\\n",
       "0  SG-8709       Delhi        Evening  zero          Night           Mumbai   \n",
       "1  SG-8157       Delhi  Early_Morning  zero        Morning           Mumbai   \n",
       "2   I5-764       Delhi  Early_Morning  zero  Early_Morning           Mumbai   \n",
       "3   UK-995       Delhi        Morning  zero      Afternoon           Mumbai   \n",
       "4   UK-963       Delhi        Morning  zero        Morning           Mumbai   \n",
       "\n",
       "     class  duration  days_left   price  AirAsia  Air_India  GO_FIRST  Indigo  \\\n",
       "0  Economy      2.17        1.0  5953.0      0.0        0.0       0.0     0.0   \n",
       "1  Economy      2.33        1.0  5953.0      0.0        0.0       0.0     0.0   \n",
       "2  Economy      2.17        1.0  5956.0      1.0        0.0       0.0     0.0   \n",
       "3  Economy      2.25        1.0  5955.0      0.0        0.0       0.0     0.0   \n",
       "4  Economy      2.33        1.0  5955.0      0.0        0.0       0.0     0.0   \n",
       "\n",
       "   SpiceJet  Vistara  \n",
       "0       1.0      0.0  \n",
       "1       1.0      0.0  \n",
       "2       0.0      0.0  \n",
       "3       0.0      1.0  \n",
       "4       0.0      1.0  "
      ]
     },
     "execution_count": 11,
     "metadata": {},
     "output_type": "execute_result"
    }
   ],
   "source": [
    "# Add transformed airline feature to dataset and drop raw airline feature\n",
    "df_airline_onehotted = pd.DataFrame(onehotted, columns=airlines)\n",
    "df = pd.concat([df, df_airline_onehotted], axis=1)\n",
    "df = df.drop(columns=['airline'])\n",
    "df.head()"
   ]
  },
  {
   "cell_type": "markdown",
   "id": "681187c1-0cee-4edf-89ed-260a5ee5a960",
   "metadata": {},
   "source": [
    "## **Handling Continuous Features**\n",
    "An example of a continuous feature in a dataset would be prices since it has an infinite number of possible values. As such, continuous features tend to have a wide range of value, and multiple unique values. There are times when continuous features will have widely different ranges. For example, it can be seen in this dataset that the price feature's values range in the thousands, while days_left ranges from as low as 1 to 49. This can cause machine learning models to work inefficiently if not transformed using techniques such as StandardScaler and MinMaxScaler because it will make unwanted interpretations or biases towards the bigger or smaller values.\n",
    "\n",
    "In this dataset, there is a total of 3 continuous features.\n",
    "- duration\n",
    "- days_left\n",
    "- price\n",
    "\n",
    "We need to transform the following continuous features through either StandardScaler or MinMaxScaler, which will be discussed below.\n",
    "\n",
    "*Additional Note: When scaling datasets, make sure to split the data into train and test sets (which you will learn in model creation) first before scaling to avoid data leakage. We don't have to worry about that now because we will not be creating models for this dataset*\n",
    "\n",
    "### StandardScaler\n",
    "- used when the data distribution is normal or follows a Gaussian distribution\n",
    "- values in the feature will be normalised by subtracting the mean and dividing by standard deviation\n",
    "- transforms the data so that mean = 0, and standard deviation = 1\n",
    "\n",
    "### MinMaxScaler\n",
    "- resizes the values of the feature proportionally within the range [0, 1]\n",
    "- preserves the shape of the dataset\n",
    "\n",
    "## **Transforming price feature**\n",
    "\n",
    "In order to know whether to use StandardScaler or MinMaxScaler, we first check the distribution of the feature. If the distribution is **normal** or follows a Gaussian distribution, then StandardScaler will be used. Otherwise, MinMaxScaler will be used."
   ]
  },
  {
   "cell_type": "code",
   "execution_count": 12,
   "id": "8f83ff73-6617-4dbf-902f-a80e6f660f0a",
   "metadata": {},
   "outputs": [],
   "source": [
    "# Import seaborn for visualizations\n",
    "import seaborn as sns"
   ]
  },
  {
   "cell_type": "code",
   "execution_count": 13,
   "id": "6bfde29a-d83f-4b91-81be-d2f4d5f42799",
   "metadata": {},
   "outputs": [
    {
     "data": {
      "text/plain": [
       "<seaborn.axisgrid.FacetGrid at 0x19e57d2dcd0>"
      ]
     },
     "execution_count": 13,
     "metadata": {},
     "output_type": "execute_result"
    },
    {
     "data": {
      "image/png": "[encoded data removed]",
      "text/plain": [
       "<Figure size 360x360 with 1 Axes>"
      ]
     },
     "metadata": {
      "needs_background": "light"
     },
     "output_type": "display_data"
    }
   ],
   "source": [
    "# Plots data with normal distribution curve\n",
    "sns.displot(df['price'], kde=True)"
   ]
  },
  {
   "cell_type": "code",
   "execution_count": 14,
   "id": "d3ed2817-48eb-49f1-a976-3a43b6f20c62",
   "metadata": {},
   "outputs": [],
   "source": [
    "# Import statistical test for normality\n",
    "from scipy.stats import shapiro"
   ]
  },
  {
   "cell_type": "code",
   "execution_count": 15,
   "id": "50bc3f67-5b1f-4953-a5e7-163a4bacfac8",
   "metadata": {},
   "outputs": [
    {
     "name": "stdout",
     "output_type": "stream",
     "text": [
      "stat=0.7523, p=0.0\n",
      "Data is not normal\n"
     ]
    },
    {
     "name": "stderr",
     "output_type": "stream",
     "text": [
      "C:\\Users\\jacob\\miniconda3\\lib\\site-packages\\scipy\\stats\\morestats.py:1760: UserWarning: p-value may not be accurate for N > 5000.\n",
      "  warnings.warn(\"p-value may not be accurate for N > 5000.\")\n"
     ]
    }
   ],
   "source": [
    "# Shapiro-Wilk test for normality\n",
    "stat, p = shapiro(df['price'])\n",
    "print(f'stat={stat:.4}, p={p:.4}')\n",
    "if p > 0.05:\n",
    "    print(\"Data is normal\")\n",
    "else:\n",
    "    print(\"Data is not normal\")"
   ]
  },
  {
   "cell_type": "markdown",
   "id": "a602fe20-dd94-4aed-a325-7d8cdde80760",
   "metadata": {},
   "source": [
    "> As seen above, the tests show that the price feature is not normally distributed, thus we should use MinMaxScaler. However, StandardScaler will still be used to show how to use it.\n",
    "\n",
    "### Standard Scaler on price feature"
   ]
  },
  {
   "cell_type": "code",
   "execution_count": 16,
   "id": "e3b8f861-c172-4ee3-b1cf-91992f137d80",
   "metadata": {},
   "outputs": [
    {
     "data": {
      "text/plain": [
       "array([[-0.65806849],\n",
       "       [-0.65806849],\n",
       "       [-0.65793631],\n",
       "       ...,\n",
       "       [ 2.56454459],\n",
       "       [ 2.67407096],\n",
       "       [ 2.67407096]])"
      ]
     },
     "execution_count": 16,
     "metadata": {},
     "output_type": "execute_result"
    }
   ],
   "source": [
    "# Get StandardScaler object from sklearn.preprocessing\n",
    "standard_scaler = StandardScaler()\n",
    "\n",
    "# Create array containing the scaled values of the features\n",
    "standard_scaled = standard_scaler.fit_transform(df[['price']])\n",
    "standard_scaled"
   ]
  },
  {
   "cell_type": "code",
   "execution_count": 17,
   "id": "767a7091-8b69-495c-95cc-f583e3794321",
   "metadata": {},
   "outputs": [
    {
     "name": "stdout",
     "output_type": "stream",
     "text": [
      "[-3.63612438e-17]\n"
     ]
    }
   ],
   "source": [
    "# Mean of scaled data\n",
    "print(standard_scaled.mean(axis=0))"
   ]
  },
  {
   "cell_type": "code",
   "execution_count": 18,
   "id": "f3dfc87c-8baa-45ca-938b-d94503a17b8d",
   "metadata": {},
   "outputs": [
    {
     "name": "stdout",
     "output_type": "stream",
     "text": [
      "[1.]\n"
     ]
    }
   ],
   "source": [
    "# Standard deviation of scaled data\n",
    "print(standard_scaled.std(axis=0))"
   ]
  },
  {
   "cell_type": "markdown",
   "id": "4bc0dd31-ea3c-4d7a-8170-0d3e5a6b28d5",
   "metadata": {},
   "source": [
    "> Notice how the mean is not exactly 0. This does not mean the scaler failed as it only limited with numerical representations. As long as the number is very close to 0, it is perfectly fine. As for the standard deviation, the scaler managed to get 1."
   ]
  },
  {
   "cell_type": "markdown",
   "id": "7aa03bc7-2343-4d6a-8d2e-700e4c443daa",
   "metadata": {},
   "source": [
    "### MinMaxScaler on price"
   ]
  },
  {
   "cell_type": "code",
   "execution_count": 19,
   "id": "49bc8320-4ab4-4d87-97c2-d098b387770f",
   "metadata": {},
   "outputs": [
    {
     "data": {
      "text/plain": [
       "array([[0.03974878],\n",
       "       [0.03974878],\n",
       "       [0.03977338],\n",
       "       ...,\n",
       "       [0.6394733 ],\n",
       "       [0.65985603],\n",
       "       [0.65985603]])"
      ]
     },
     "execution_count": 19,
     "metadata": {},
     "output_type": "execute_result"
    }
   ],
   "source": [
    "# Get MinMaxScaler object from sklearn.preprocessing\n",
    "minmax_scaler = MinMaxScaler()\n",
    "\n",
    "# Create array containing the scaled values of the features\n",
    "minmax_scaled = minmax_scaler.fit_transform(df[['price']])\n",
    "minmax_scaled"
   ]
  },
  {
   "cell_type": "code",
   "execution_count": 20,
   "id": "48b40b28-1012-4e82-8eb0-d8883a2decc2",
   "metadata": {},
   "outputs": [
    {
     "name": "stdout",
     "output_type": "stream",
     "text": [
      "[0.] [1.]\n"
     ]
    }
   ],
   "source": [
    "# Min and max of scaled data\n",
    "print(min(minmax_scaled), max(minmax_scaled))"
   ]
  },
  {
   "cell_type": "markdown",
   "id": "fb34f800-270f-4ed8-b5af-b31163fb9664",
   "metadata": {},
   "source": [
    "> As seen above, the scaler resized the values of the price feature in proportion to the range [0, 1]."
   ]
  },
  {
   "cell_type": "markdown",
   "id": "4a0daf47-c2ea-4e09-8f28-ac168034df7d",
   "metadata": {},
   "source": [
    "# **Congratulations!**\n",
    "You have finished the notebook and learned how to transform a dataset for a machine learning model. Now, you should be able to handle continuous and categorical features in a dataset. We hope these will help you in your future machine learning projects and push you forward in your data science journey!"
   ]
  },
  {
   "cell_type": "code",
   "execution_count": null,
   "id": "4f28efd9-d195-4696-8fe6-d392d8ebe175",
   "metadata": {},
   "outputs": [],
   "source": []
  }
 ],
 "metadata": {
  "kernelspec": {
   "display_name": "Python 3 (ipykernel)",
   "language": "python",
   "name": "python3"
  },
  "language_info": {
   "codemirror_mode": {
    "name": "ipython",
    "version": 3
   },
   "file_extension": ".py",
   "mimetype": "text/x-python",
   "name": "python",
   "nbconvert_exporter": "python",
   "pygments_lexer": "ipython3",
   "version": "3.9.7"
  }
 },
 "nbformat": 4,
 "nbformat_minor": 5
}
